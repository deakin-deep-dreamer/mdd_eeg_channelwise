{
 "cells": [
  {
   "cell_type": "code",
   "execution_count": 3,
   "metadata": {},
   "outputs": [],
   "source": [
    "import os\n",
    "\n",
    "import pandas as pd\n",
    "import numpy as np\n",
    "\n",
    "from sklearn.metrics import precision_score, recall_score, f1_score, \\\n",
    "    accuracy_score, classification_report, confusion_matrix"
   ]
  },
  {
   "cell_type": "code",
   "execution_count": 10,
   "metadata": {},
   "outputs": [
    {
     "name": "stdout",
     "output_type": "stream",
     "text": [
      "[th=0.10] subject wise acc:0.93\n",
      "[th=0.20] subject wise acc:0.91\n",
      "[th=0.30] subject wise acc:0.90\n",
      "[th=0.40] subject wise acc:0.88\n",
      "[th=0.50] subject wise acc:0.86\n",
      "[th=0.60] subject wise acc:0.84\n",
      "[th=0.70] subject wise acc:0.83\n",
      "[th=0.80] subject wise acc:0.81\n",
      "[th=0.90] subject wise acc:0.72\n",
      "[th=1.00] subject wise acc:0.47\n"
     ]
    }
   ],
   "source": [
    "DIR = \"logs/sleep_preds/20231028223410/\"\n",
    "\n",
    "\n",
    "for th in np.linspace(0.1, 1.0, 10):\n",
    "    sub_preds, sub_labels = [], []    \n",
    "    for f in os.listdir(DIR):\n",
    "        df = pd.read_csv(os.path.join(DIR, f))\n",
    "        label = df['labels'][0]\n",
    "        sub_labels.append(label)\n",
    "        # print(f, df.shape)\n",
    "        acc = accuracy_score(df['labels'], df['preds'])\n",
    "        if acc >= th:\n",
    "            sub_preds.append(label)\n",
    "        else:\n",
    "            sub_preds.append((label+1)%2)\n",
    "    # print(f\"sub_preds:\", sub_preds)\n",
    "    # print(f\"sub_labels:\", sub_labels)\n",
    "    sub_acc = accuracy_score(sub_labels, sub_preds)\n",
    "    print(f\"[th={th:.02f}] subject wise acc:{sub_acc:.02f}\")"
   ]
  },
  {
   "cell_type": "code",
   "execution_count": null,
   "metadata": {},
   "outputs": [],
   "source": []
  }
 ],
 "metadata": {
  "kernelspec": {
   "display_name": "base",
   "language": "python",
   "name": "python3"
  },
  "language_info": {
   "codemirror_mode": {
    "name": "ipython",
    "version": 3
   },
   "file_extension": ".py",
   "mimetype": "text/x-python",
   "name": "python",
   "nbconvert_exporter": "python",
   "pygments_lexer": "ipython3",
   "version": "3.10.9"
  }
 },
 "nbformat": 4,
 "nbformat_minor": 2
}
